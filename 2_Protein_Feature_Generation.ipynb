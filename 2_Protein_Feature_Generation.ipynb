{
 "cells": [
  {
   "cell_type": "code",
   "execution_count": 1,
   "id": "119f3177",
   "metadata": {},
   "outputs": [],
   "source": [
    "import os\n",
    "import re\n",
    "import pickle\n",
    "import torch\n",
    "import tqdm\n",
    "import pandas as pd\n",
    "import numpy as np\n",
    "from transformers import T5EncoderModel, T5Tokenizer"
   ]
  },
  {
   "cell_type": "code",
   "execution_count": 2,
   "id": "d450bf26",
   "metadata": {},
   "outputs": [],
   "source": [
    "input_dir = \"data_preprocessed\""
   ]
  },
  {
   "cell_type": "code",
   "execution_count": 3,
   "id": "b6b593de",
   "metadata": {},
   "outputs": [],
   "source": [
    "output_dir = \"data_embeddings\"\n",
    "if not os.path.exists(output_dir):\n",
    "    os.mkdir(output_dir)\n",
    "    \n",
    "output_dir = os.path.join(output_dir, \"pdbbind\")\n",
    "if not os.path.exists(output_dir):\n",
    "    os.mkdir(output_dir)"
   ]
  },
  {
   "cell_type": "markdown",
   "id": "ef18e1c6",
   "metadata": {},
   "source": [
    "# 1. Data Load"
   ]
  },
  {
   "cell_type": "code",
   "execution_count": 4,
   "id": "0b2f002b",
   "metadata": {},
   "outputs": [],
   "source": [
    "prots_df = pd.read_csv(os.path.join(input_dir, \"PDBbind_data.tsv\"), sep=\"\\t\")"
   ]
  },
  {
   "cell_type": "code",
   "execution_count": 5,
   "id": "5ef53968",
   "metadata": {},
   "outputs": [
    {
     "data": {
      "text/html": [
       "<div>\n",
       "<style scoped>\n",
       "    .dataframe tbody tr th:only-of-type {\n",
       "        vertical-align: middle;\n",
       "    }\n",
       "\n",
       "    .dataframe tbody tr th {\n",
       "        vertical-align: top;\n",
       "    }\n",
       "\n",
       "    .dataframe thead th {\n",
       "        text-align: right;\n",
       "    }\n",
       "</style>\n",
       "<table border=\"1\" class=\"dataframe\">\n",
       "  <thead>\n",
       "    <tr style=\"text-align: right;\">\n",
       "      <th></th>\n",
       "      <th>PDB</th>\n",
       "      <th>Sequence</th>\n",
       "      <th>BS</th>\n",
       "    </tr>\n",
       "  </thead>\n",
       "  <tbody>\n",
       "    <tr>\n",
       "      <th>0</th>\n",
       "      <td>4x14</td>\n",
       "      <td>VEVLEVKTGVDSITEVECFLTPEMGDPDEHLRGFSKSISISDTFES...</td>\n",
       "      <td>361,362,364,367,368,369,370,371,372,373,374,50...</td>\n",
       "    </tr>\n",
       "    <tr>\n",
       "      <th>1</th>\n",
       "      <td>4ruu</td>\n",
       "      <td>TRDQNGTWEMESNENFEGYMKALDIDFATRKIAVRLTQTLVIDQDG...</td>\n",
       "      <td>1,2,3,4,5,7,9,12,14,15,16,17,18,19,20,21,22,23...</td>\n",
       "    </tr>\n",
       "    <tr>\n",
       "      <th>2</th>\n",
       "      <td>5hx8</td>\n",
       "      <td>IVSEKKPATEVDPTHFEKRFLKRIRDLGEGHFGKVELCRYDPEGDN...</td>\n",
       "      <td>23,24,25,26,27,28,29,30,31,32,33,34,35,36,37,4...</td>\n",
       "    </tr>\n",
       "    <tr>\n",
       "      <th>3</th>\n",
       "      <td>2ymt</td>\n",
       "      <td>SAPIPDLKVFEREGVQLNLSFIRPPENPALLLITITATNFSEGDVT...</td>\n",
       "      <td>16,18,32,34,47,48,49,50,51,52,53,54,55,56,57,5...</td>\n",
       "    </tr>\n",
       "    <tr>\n",
       "      <th>4</th>\n",
       "      <td>4km2</td>\n",
       "      <td>MVGLIWAQATSGVIGRGGDIPWRLPEDQAHFREITMGHTIVMGRRT...</td>\n",
       "      <td>2,3,4,5,6,7,8,13,14,15,17,18,19,20,21,22,23,24...</td>\n",
       "    </tr>\n",
       "    <tr>\n",
       "      <th>...</th>\n",
       "      <td>...</td>\n",
       "      <td>...</td>\n",
       "      <td>...</td>\n",
       "    </tr>\n",
       "    <tr>\n",
       "      <th>9973</th>\n",
       "      <td>5ew9</td>\n",
       "      <td>QWALEDFEIGRPLGKGKFGNVYLAREKQSKFILALKVLFKAQLEKA...</td>\n",
       "      <td>10,11,12,13,14,15,16,17,18,19,20,21,22,23,30,3...</td>\n",
       "    </tr>\n",
       "    <tr>\n",
       "      <th>9974</th>\n",
       "      <td>4f7l</td>\n",
       "      <td>DKMDYDFKVKLSSERERVEDLFEYEGCKVGRGTYGHVYKAKRKDGK...</td>\n",
       "      <td>26,27,28,29,30,31,32,33,34,35,36,37,38,39,49,5...</td>\n",
       "    </tr>\n",
       "    <tr>\n",
       "      <th>9975</th>\n",
       "      <td>4elh</td>\n",
       "      <td>MIVSFMVAMDENRVIGKDNNLPWRLPSELQYVKKTTMGHPLIMGRK...</td>\n",
       "      <td>3,4,5,6,7,8,9,12,13,14,15,16,17,18,19,20,21,22...</td>\n",
       "    </tr>\n",
       "    <tr>\n",
       "      <th>9976</th>\n",
       "      <td>4o3a</td>\n",
       "      <td>GANKTVVVTTILESPYVMMKKNHEMLEGNERYEGYCVDLAAEIAKH...</td>\n",
       "      <td>9,10,11,12,13,14,15,35,55,58,59,60,61,62,63,70...</td>\n",
       "    </tr>\n",
       "    <tr>\n",
       "      <th>9977</th>\n",
       "      <td>4gu9</td>\n",
       "      <td>DYEIQRERIELGRCIGEGQFGDVHQGIYMSPENPALAVAIKTCKNC...</td>\n",
       "      <td>12,13,14,15,16,17,18,19,20,21,22,23,24,25,35,3...</td>\n",
       "    </tr>\n",
       "  </tbody>\n",
       "</table>\n",
       "<p>9978 rows × 3 columns</p>\n",
       "</div>"
      ],
      "text/plain": [
       "       PDB                                           Sequence  \\\n",
       "0     4x14  VEVLEVKTGVDSITEVECFLTPEMGDPDEHLRGFSKSISISDTFES...   \n",
       "1     4ruu  TRDQNGTWEMESNENFEGYMKALDIDFATRKIAVRLTQTLVIDQDG...   \n",
       "2     5hx8  IVSEKKPATEVDPTHFEKRFLKRIRDLGEGHFGKVELCRYDPEGDN...   \n",
       "3     2ymt  SAPIPDLKVFEREGVQLNLSFIRPPENPALLLITITATNFSEGDVT...   \n",
       "4     4km2  MVGLIWAQATSGVIGRGGDIPWRLPEDQAHFREITMGHTIVMGRRT...   \n",
       "...    ...                                                ...   \n",
       "9973  5ew9  QWALEDFEIGRPLGKGKFGNVYLAREKQSKFILALKVLFKAQLEKA...   \n",
       "9974  4f7l  DKMDYDFKVKLSSERERVEDLFEYEGCKVGRGTYGHVYKAKRKDGK...   \n",
       "9975  4elh  MIVSFMVAMDENRVIGKDNNLPWRLPSELQYVKKTTMGHPLIMGRK...   \n",
       "9976  4o3a  GANKTVVVTTILESPYVMMKKNHEMLEGNERYEGYCVDLAAEIAKH...   \n",
       "9977  4gu9  DYEIQRERIELGRCIGEGQFGDVHQGIYMSPENPALAVAIKTCKNC...   \n",
       "\n",
       "                                                     BS  \n",
       "0     361,362,364,367,368,369,370,371,372,373,374,50...  \n",
       "1     1,2,3,4,5,7,9,12,14,15,16,17,18,19,20,21,22,23...  \n",
       "2     23,24,25,26,27,28,29,30,31,32,33,34,35,36,37,4...  \n",
       "3     16,18,32,34,47,48,49,50,51,52,53,54,55,56,57,5...  \n",
       "4     2,3,4,5,6,7,8,13,14,15,17,18,19,20,21,22,23,24...  \n",
       "...                                                 ...  \n",
       "9973  10,11,12,13,14,15,16,17,18,19,20,21,22,23,30,3...  \n",
       "9974  26,27,28,29,30,31,32,33,34,35,36,37,38,39,49,5...  \n",
       "9975  3,4,5,6,7,8,9,12,13,14,15,16,17,18,19,20,21,22...  \n",
       "9976  9,10,11,12,13,14,15,35,55,58,59,60,61,62,63,70...  \n",
       "9977  12,13,14,15,16,17,18,19,20,21,22,23,24,25,35,3...  \n",
       "\n",
       "[9978 rows x 3 columns]"
      ]
     },
     "execution_count": 5,
     "metadata": {},
     "output_type": "execute_result"
    }
   ],
   "source": [
    "prots_df"
   ]
  },
  {
   "cell_type": "markdown",
   "id": "400028b5",
   "metadata": {},
   "source": [
    "# 2. Tokenizer and Pretrained Model"
   ]
  },
  {
   "cell_type": "code",
   "execution_count": 6,
   "id": "ef1fc753",
   "metadata": {},
   "outputs": [],
   "source": [
    "tokenizer = T5Tokenizer.from_pretrained(\"Rostlab/prot_t5_xl_uniref50\", do_lower_case=False )"
   ]
  },
  {
   "cell_type": "code",
   "execution_count": 7,
   "id": "a91fcc8c",
   "metadata": {},
   "outputs": [],
   "source": [
    "## https://stackoverflow.com/questions/71788825/using-the-encoder-part-only-from-t5-model\n",
    "T5EncoderModel._keys_to_ignore_on_load_unexpected = [\"decoder.*\", \"lm_head.*\"]\n",
    "prots_model = T5EncoderModel.from_pretrained(\"Rostlab/prot_t5_xl_uniref50\")"
   ]
  },
  {
   "cell_type": "code",
   "execution_count": 8,
   "id": "1712e863",
   "metadata": {},
   "outputs": [],
   "source": [
    "#device = torch.device(\"cuda\" if torch.cuda.is_available() else \"cpu\")\n",
    "device = torch.device(\"cpu\")"
   ]
  },
  {
   "cell_type": "code",
   "execution_count": 9,
   "id": "c927fcb1",
   "metadata": {},
   "outputs": [],
   "source": [
    "prots_model = prots_model.to(device)\n",
    "prots_model = prots_model.eval()"
   ]
  },
  {
   "cell_type": "markdown",
   "id": "1effbda4",
   "metadata": {},
   "source": [
    "# 3. Feature Generation"
   ]
  },
  {
   "cell_type": "code",
   "execution_count": 10,
   "id": "1149ebae",
   "metadata": {},
   "outputs": [
    {
     "name": "stdout",
     "output_type": "stream",
     "text": [
      "4876\n"
     ]
    }
   ],
   "source": [
    "cnt = 0\n",
    "for seqs in prots_df[\"Sequence\"].values:\n",
    "    if len(seqs.split(\",\")) > 1:\n",
    "        cnt += 1\n",
    "        \n",
    "print(cnt)"
   ]
  },
  {
   "cell_type": "code",
   "execution_count": 11,
   "id": "f666bbf7",
   "metadata": {
    "scrolled": true
   },
   "outputs": [
    {
     "name": "stderr",
     "output_type": "stream",
     "text": [
      "100%|████████████████████████████████████████████████████████████████████████████████████████████████████████████████████████████████████████████████████| 9978/9978 [8:12:57<00:00,  2.96s/it]\n"
     ]
    }
   ],
   "source": [
    "for i in tqdm.trange(len(prots_df)):\n",
    "    ## seqs\n",
    "    seqs = prots_df.loc[i, \"Sequence\"].split(\",\")\n",
    "    \n",
    "    ## tokenization\n",
    "    batch = tokenizer.batch_encode_plus(\n",
    "        [\" \".join(list(re.sub(r\"[UZOB]\", \"X\", seq))) for seq in seqs],\n",
    "        add_special_tokens=True,\n",
    "        padding=True\n",
    "    )\n",
    "    \n",
    "    ## embedding\n",
    "    with torch.no_grad():\n",
    "        embeddings = prots_model(\n",
    "            input_ids=torch.tensor(batch[\"input_ids\"], device=device),\n",
    "            attention_mask=torch.tensor(batch[\"attention_mask\"], device=device),\n",
    "        )[0].cpu().numpy()\n",
    "    \n",
    "    ## postprocess for the special token\n",
    "    embedding = np.vstack([\n",
    "        emb[:len(seq)] for emb, seq in zip(embeddings, seqs)\n",
    "    ])\n",
    "    \n",
    "    ## store    \n",
    "    pdbid = prots_df.loc[i, \"PDB\"]\n",
    "    np.save(os.path.join(output_dir, f\"{pdbid}.npy\"), embedding)"
   ]
  },
  {
   "cell_type": "code",
   "execution_count": null,
   "id": "e7781550",
   "metadata": {},
   "outputs": [],
   "source": []
  }
 ],
 "metadata": {
  "kernelspec": {
   "display_name": "Python 3 (ipykernel)",
   "language": "python",
   "name": "python3"
  },
  "language_info": {
   "codemirror_mode": {
    "name": "ipython",
    "version": 3
   },
   "file_extension": ".py",
   "mimetype": "text/x-python",
   "name": "python",
   "nbconvert_exporter": "python",
   "pygments_lexer": "ipython3",
   "version": "3.7.12"
  }
 },
 "nbformat": 4,
 "nbformat_minor": 5
}
